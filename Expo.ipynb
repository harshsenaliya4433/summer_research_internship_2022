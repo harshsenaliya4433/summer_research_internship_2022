{
  "nbformat": 4,
  "nbformat_minor": 0,
  "metadata": {
    "colab": {
      "provenance": [],
      "collapsed_sections": []
    },
    "kernelspec": {
      "name": "python3",
      "display_name": "Python 3"
    },
    "language_info": {
      "name": "python"
    }
  },
  "cells": [
    {
      "cell_type": "code",
      "execution_count": null,
      "metadata": {
        "id": "MNaebkhYgkZV"
      },
      "outputs": [],
      "source": [
        "import numpy as np\n",
        "import pandas as pd\n",
        "import sklearn\n",
        "import seaborn as sns\n",
        "from matplotlib import pyplot as plt\n",
        "get_ipython().run_line_magic('matplotlib', 'inline')"
      ]
    },
    {
      "cell_type": "code",
      "source": [
        "import pandas as pd\n",
        "path_dried = \"/content/Dry Boron 2020.xlsx\"\n",
        "#path_fresh = \"Dataset III_Fresh Leaves.xlsx\"\n",
        "df_dried = pd.read_excel(path_dried)\n",
        "#df_fresh = pd.read_excel(path_fresh)"
      ],
      "metadata": {
        "id": "f4z_ZSa3iCpx"
      },
      "execution_count": null,
      "outputs": []
    },
    {
      "cell_type": "code",
      "source": [
        "data = pd.read_excel(path_dried)"
      ],
      "metadata": {
        "id": "mwYd0g6Rg0B8"
      },
      "execution_count": null,
      "outputs": []
    },
    {
      "cell_type": "code",
      "source": [
        "sns.heatmap(data.corr())"
      ],
      "metadata": {
        "id": "m5QUtf3Yhzag",
        "colab": {
          "base_uri": "https://localhost:8080/",
          "height": 341
        },
        "outputId": "44a358b9-063e-4aa0-954f-c35911ceae97"
      },
      "execution_count": null,
      "outputs": [
        {
          "output_type": "execute_result",
          "data": {
            "text/plain": [
              "<matplotlib.axes._subplots.AxesSubplot at 0x7f5e241789d0>"
            ]
          },
          "metadata": {},
          "execution_count": 81
        },
        {
          "output_type": "display_data",
          "data": {
            "text/plain": [
              "<Figure size 432x288 with 2 Axes>"
            ],
            "image/png": "[encoded data removed]"
          },
          "metadata": {
            "needs_background": "light"
          }
        }
      ]
    },
    {
      "cell_type": "code",
      "source": [
        "#Create correlation matrix\n",
        "corr_matrix = data.corr().abs()\n",
        "\n",
        "# Select upper triangle of correlation matrix\n",
        "upper = corr_matrix.where(np.triu(np.ones(corr_matrix.shape), k=1).astype(np.bool))\n",
        "\n",
        "# Find features with correlation greater than 0.95\n",
        "to_drop = [column for column in upper.columns if any(upper[column] > 1)]\n",
        "\n",
        "# Drop features \n",
        "data_t = data.drop(to_drop, axis=1)"
      ],
      "metadata": {
        "id": "cdPCs2YXhzd2",
        "colab": {
          "base_uri": "https://localhost:8080/"
        },
        "outputId": "a4c45804-0fdd-43e6-cb0a-05018f3fd690"
      },
      "execution_count": null,
      "outputs": [
        {
          "output_type": "stream",
          "name": "stderr",
          "text": [
            "/usr/local/lib/python3.7/dist-packages/ipykernel_launcher.py:5: DeprecationWarning: `np.bool` is a deprecated alias for the builtin `bool`. To silence this warning, use `bool` by itself. Doing this will not modify any behavior and is safe. If you specifically wanted the numpy scalar type, use `np.bool_` here.\n",
            "Deprecated in NumPy 1.20; for more details and guidance: https://numpy.org/devdocs/release/1.20.0-notes.html#deprecations\n",
            "  \"\"\"\n"
          ]
        }
      ]
    },
    {
      "cell_type": "code",
      "source": [
        "data_t"
      ],
      "metadata": {
        "id": "Hg5To8B5hzgY",
        "colab": {
          "base_uri": "https://localhost:8080/",
          "height": 1000
        },
        "outputId": "135ca2aa-771a-44b6-9bf3-4a89548076fe"
      },
      "execution_count": null,
      "outputs": [
        {
          "output_type": "execute_result",
          "data": {
            "text/plain": [
              "    B Conc. ppm       400     400.5       401     401.5       402     402.5  \\\n",
              "0            42  0.120946  0.120287  0.119653  0.119042  0.118452  0.117882   \n",
              "1            41  0.112778  0.112096  0.111438  0.110800  0.110181  0.109579   \n",
              "2            39  0.109069  0.108403  0.107760  0.107139  0.106537  0.105954   \n",
              "3            22  0.115123  0.114382  0.113665  0.112972  0.112302  0.111651   \n",
              "4            23  0.108210  0.107502  0.106820  0.106161  0.105525  0.104909   \n",
              "5            23  0.110145  0.109484  0.108847  0.108232  0.107640  0.107067   \n",
              "6            27  0.116913  0.116137  0.115386  0.114659  0.113953  0.113268   \n",
              "7            29  0.115383  0.114556  0.113759  0.112989  0.112244  0.111523   \n",
              "8            30  0.116996  0.116160  0.115352  0.114571  0.113816  0.113086   \n",
              "9            31  0.117903  0.117134  0.116392  0.115676  0.114985  0.114318   \n",
              "10           29  0.115312  0.114534  0.113784  0.113061  0.112362  0.111687   \n",
              "11           30  0.118457  0.117669  0.116910  0.116180  0.115474  0.114792   \n",
              "12           39  0.127076  0.126311  0.125574  0.124863  0.124178  0.123516   \n",
              "13           35  0.114814  0.114023  0.113260  0.112525  0.111814  0.111128   \n",
              "14           35  0.118864  0.118050  0.117267  0.116514  0.115789  0.115090   \n",
              "15           33  0.127350  0.126562  0.125802  0.125069  0.124362  0.123678   \n",
              "16           35  0.122193  0.121389  0.120615  0.119868  0.119146  0.118450   \n",
              "17           33  0.113872  0.113057  0.112270  0.111510  0.110776  0.110065   \n",
              "18           32  0.124934  0.124050  0.123198  0.122376  0.121583  0.120815   \n",
              "19           32  0.124913  0.124070  0.123255  0.122468  0.121707  0.120970   \n",
              "20           35  0.123907  0.123107  0.122335  0.121591  0.120873  0.120180   \n",
              "21           35  0.125039  0.124276  0.123538  0.122825  0.122134  0.121463   \n",
              "22           33  0.122859  0.122049  0.121266  0.120510  0.119778  0.119069   \n",
              "23           33  0.123770  0.122989  0.122236  0.121509  0.120806  0.120124   \n",
              "24           40  0.127481  0.126632  0.125813  0.125024  0.124262  0.123525   \n",
              "25           37  0.126210  0.125313  0.124450  0.123618  0.122816  0.122041   \n",
              "26           37  0.122166  0.121303  0.120470  0.119667  0.118891  0.118140   \n",
              "27           35  0.121548  0.120658  0.119799  0.118969  0.118168  0.117392   \n",
              "28           35  0.121781  0.120937  0.120121  0.119334  0.118573  0.117836   \n",
              "29           44  0.120819  0.119984  0.119179  0.118401  0.117651  0.116926   \n",
              "30           40  0.116817  0.115990  0.115191  0.114419  0.113673  0.112951   \n",
              "31           35  0.120230  0.119388  0.118576  0.117792  0.117036  0.116306   \n",
              "32           42  0.103627  0.103004  0.102401  0.101820  0.101257  0.100714   \n",
              "33           39  0.107658  0.106982  0.106329  0.105700  0.105091  0.104503   \n",
              "34           38  0.101946  0.101201  0.100481  0.099786  0.099114  0.098464   \n",
              "35           43  0.120367  0.119616  0.118889  0.118187  0.117508  0.116850   \n",
              "\n",
              "         403     403.5       404  ...      2495    2495.5      2496    2496.5  \\\n",
              "0   0.117329  0.116792  0.116272  ...  0.325618  0.325604  0.325594  0.325591   \n",
              "1   0.108994  0.108425  0.107872  ...  0.337218  0.337213  0.337213  0.337217   \n",
              "2   0.105389  0.104841  0.104310  ...  0.322406  0.322391  0.322379  0.322372   \n",
              "3   0.111020  0.110406  0.109811  ...  0.345761  0.345795  0.345833  0.345875   \n",
              "4   0.104313  0.103736  0.103177  ...  0.318878  0.318912  0.318950  0.318994   \n",
              "5   0.106512  0.105975  0.105455  ...  0.336139  0.336181  0.336226  0.336277   \n",
              "6   0.112602  0.111954  0.111325  ...  0.311583  0.311649  0.311720  0.311795   \n",
              "7   0.110824  0.110147  0.109491  ...  0.345287  0.345351  0.345421  0.345496   \n",
              "8   0.112379  0.111695  0.111034  ...  0.334935  0.334991  0.335053  0.335121   \n",
              "9   0.113673  0.113048  0.112446  ...  0.333258  0.333291  0.333329  0.333372   \n",
              "10  0.111033  0.110399  0.109786  ...  0.335617  0.335650  0.335689  0.335732   \n",
              "11  0.114132  0.113493  0.112875  ...  0.357113  0.357146  0.357185  0.357229   \n",
              "12  0.122876  0.122258  0.121661  ...  0.361618  0.361685  0.361757  0.361835   \n",
              "13  0.110465  0.109823  0.109204  ...  0.334396  0.334443  0.334496  0.334555   \n",
              "14  0.114414  0.113762  0.113132  ...  0.349530  0.349565  0.349606  0.349654   \n",
              "15  0.123017  0.122377  0.121759  ...  0.344028  0.344086  0.344152  0.344226   \n",
              "16  0.117777  0.117126  0.116499  ...  0.362813  0.362864  0.362920  0.362983   \n",
              "17  0.109377  0.108711  0.108067  ...  0.352807  0.352845  0.352889  0.352940   \n",
              "18  0.120072  0.119352  0.118655  ...  0.376867  0.376917  0.376973  0.377036   \n",
              "19  0.120256  0.119563  0.118892  ...  0.363776  0.363842  0.363913  0.363991   \n",
              "20  0.119510  0.118861  0.118234  ...  0.360328  0.360372  0.360422  0.360479   \n",
              "21  0.120810  0.120175  0.119557  ...  0.333666  0.333673  0.333685  0.333703   \n",
              "22  0.118382  0.117716  0.117072  ...  0.360561  0.360576  0.360595  0.360621   \n",
              "23  0.119462  0.118819  0.118194  ...  0.365700  0.365706  0.365716  0.365732   \n",
              "24  0.122812  0.122122  0.121455  ...  0.334771  0.334835  0.334906  0.334984   \n",
              "25  0.121292  0.120566  0.119864  ...  0.369565  0.369601  0.369644  0.369694   \n",
              "26  0.117413  0.116709  0.116028  ...  0.348966  0.348992  0.349025  0.349066   \n",
              "27  0.116641  0.115914  0.115211  ...  0.367154  0.367174  0.367200  0.367234   \n",
              "28  0.117122  0.116430  0.115760  ...  0.342946  0.342978  0.343016  0.343060   \n",
              "29  0.116225  0.115547  0.114893  ...  0.346265  0.346341  0.346424  0.346513   \n",
              "30  0.112253  0.111577  0.110923  ...  0.340572  0.340655  0.340745  0.340840   \n",
              "31  0.115600  0.114917  0.114258  ...  0.348171  0.348233  0.348302  0.348378   \n",
              "32  0.100187  0.099676  0.099182  ...  0.296478  0.296521  0.296569  0.296623   \n",
              "33  0.103935  0.103385  0.102853  ...  0.323486  0.323538  0.323594  0.323656   \n",
              "34  0.097834  0.097224  0.096632  ...  0.318504  0.318542  0.318587  0.318639   \n",
              "35  0.116212  0.115594  0.114995  ...  0.313752  0.313767  0.313789  0.313819   \n",
              "\n",
              "        2497    2497.5      2498    2498.5      2499    2499.5  \n",
              "0   0.325593  0.325602  0.325618  0.325641  0.325672  0.325715  \n",
              "1   0.337227  0.337241  0.337261  0.337287  0.337319  0.337362  \n",
              "2   0.322370  0.322373  0.322381  0.322396  0.322418  0.322450  \n",
              "3   0.345922  0.345973  0.346030  0.346093  0.346165  0.346248  \n",
              "4   0.319043  0.319099  0.319162  0.319232  0.319311  0.319402  \n",
              "5   0.336334  0.336396  0.336463  0.336536  0.336615  0.336704  \n",
              "6   0.311877  0.311965  0.312060  0.312162  0.312271  0.312392  \n",
              "7   0.345577  0.345665  0.345759  0.345861  0.345971  0.346092  \n",
              "8   0.335196  0.335277  0.335365  0.335461  0.335566  0.335683  \n",
              "9   0.333420  0.333475  0.333537  0.333607  0.333686  0.333777  \n",
              "10  0.335782  0.335838  0.335901  0.335971  0.336049  0.336140  \n",
              "11  0.357281  0.357339  0.357404  0.357477  0.357558  0.357652  \n",
              "12  0.361919  0.362010  0.362107  0.362211  0.362323  0.362446  \n",
              "13  0.334621  0.334694  0.334774  0.334863  0.334961  0.335071  \n",
              "14  0.349709  0.349771  0.349841  0.349919  0.350006  0.350106  \n",
              "15  0.344307  0.344396  0.344493  0.344599  0.344711  0.344836  \n",
              "16  0.363053  0.363130  0.363215  0.363308  0.363409  0.363523  \n",
              "17  0.352999  0.353064  0.353138  0.353220  0.353311  0.353414  \n",
              "18  0.377106  0.377182  0.377265  0.377356  0.377454  0.377564  \n",
              "19  0.364074  0.364164  0.364262  0.364367  0.364480  0.364606  \n",
              "20  0.360542  0.360612  0.360690  0.360776  0.360871  0.360979  \n",
              "21  0.333728  0.333760  0.333801  0.333850  0.333908  0.333980  \n",
              "22  0.360654  0.360692  0.360738  0.360792  0.360854  0.360929  \n",
              "23  0.365754  0.365783  0.365818  0.365861  0.365912  0.365977  \n",
              "24  0.335069  0.335162  0.335261  0.335369  0.335485  0.335613  \n",
              "25  0.369753  0.369820  0.369896  0.369982  0.370078  0.370188  \n",
              "26  0.349116  0.349174  0.349241  0.349318  0.349405  0.349506  \n",
              "27  0.367276  0.367324  0.367380  0.367445  0.367519  0.367605  \n",
              "28  0.343110  0.343169  0.343235  0.343311  0.343396  0.343496  \n",
              "29  0.346610  0.346715  0.346826  0.346947  0.347075  0.347217  \n",
              "30  0.340941  0.341047  0.341159  0.341277  0.341401  0.341535  \n",
              "31  0.348462  0.348553  0.348652  0.348760  0.348876  0.349004  \n",
              "32  0.296682  0.296747  0.296819  0.296898  0.296985  0.297083  \n",
              "33  0.323723  0.323795  0.323872  0.323957  0.324048  0.324150  \n",
              "34  0.318700  0.318769  0.318846  0.318934  0.319031  0.319141  \n",
              "35  0.313857  0.313903  0.313957  0.314019  0.314089  0.314173  \n",
              "\n",
              "[36 rows x 4201 columns]"
            ],
            "text/html": [
              "\n",
              "  <div id=\"df-41072520-0e1f-41a8-9b00-907b8843d022\">\n",
              "    <div class=\"colab-df-container\">\n",
              "      <div>\n",
              "<style scoped>\n",
              "    .dataframe tbody tr th:only-of-type {\n",
              "        vertical-align: middle;\n",
              "    }\n",
              "\n",
              "    .dataframe tbody tr th {\n",
              "        vertical-align: top;\n",
              "    }\n",
              "\n",
              "    .dataframe thead th {\n",
              "        text-align: right;\n",
              "    }\n",
              "</style>\n",
              "<table border=\"1\" class=\"dataframe\">\n",
              "  <thead>\n",
              "    <tr style=\"text-align: right;\">\n",
              "      <th></th>\n",
              "      <th>B Conc. ppm</th>\n",
              "      <th>400</th>\n",
              "      <th>400.5</th>\n",
              "      <th>401</th>\n",
              "      <th>401.5</th>\n",
              "      <th>402</th>\n",
              "      <th>402.5</th>\n",
              "      <th>403</th>\n",
              "      <th>403.5</th>\n",
              "      <th>404</th>\n",
              "      <th>...</th>\n",
              "      <th>2495</th>\n",
              "      <th>2495.5</th>\n",
              "      <th>2496</th>\n",
              "      <th>2496.5</th>\n",
              "      <th>2497</th>\n",
              "      <th>2497.5</th>\n",
              "      <th>2498</th>\n",
              "      <th>2498.5</th>\n",
              "      <th>2499</th>\n",
              "      <th>2499.5</th>\n",
              "    </tr>\n",
              "  </thead>\n",
              "  <tbody>\n",
              "    <tr>\n",
              "      <th>0</th>\n",
              "      <td>42</td>\n",
              "      <td>0.120946</td>\n",
              "      <td>0.120287</td>\n",
              "      <td>0.119653</td>\n",
              "      <td>0.119042</td>\n",
              "      <td>0.118452</td>\n",
              "      <td>0.117882</td>\n",
              "      <td>0.117329</td>\n",
              "      <td>0.116792</td>\n",
              "      <td>0.116272</td>\n",
              "      <td>...</td>\n",
              "      <td>0.325618</td>\n",
              "      <td>0.325604</td>\n",
              "      <td>0.325594</td>\n",
              "      <td>0.325591</td>\n",
              "      <td>0.325593</td>\n",
              "      <td>0.325602</td>\n",
              "      <td>0.325618</td>\n",
              "      <td>0.325641</td>\n",
              "      <td>0.325672</td>\n",
              "      <td>0.325715</td>\n",
              "    </tr>\n",
              "    <tr>\n",
              "      <th>1</th>\n",
              "      <td>41</td>\n",
              "      <td>0.112778</td>\n",
              "      <td>0.112096</td>\n",
              "      <td>0.111438</td>\n",
              "      <td>0.110800</td>\n",
              "      <td>0.110181</td>\n",
              "      <td>0.109579</td>\n",
              "      <td>0.108994</td>\n",
              "      <td>0.108425</td>\n",
              "      <td>0.107872</td>\n",
              "      <td>...</td>\n",
              "      <td>0.337218</td>\n",
              "      <td>0.337213</td>\n",
              "      <td>0.337213</td>\n",
              "      <td>0.337217</td>\n",
              "      <td>0.337227</td>\n",
              "      <td>0.337241</td>\n",
              "      <td>0.337261</td>\n",
              "      <td>0.337287</td>\n",
              "      <td>0.337319</td>\n",
              "      <td>0.337362</td>\n",
              "    </tr>\n",
              "    <tr>\n",
              "      <th>2</th>\n",
              "      <td>39</td>\n",
              "      <td>0.109069</td>\n",
              "      <td>0.108403</td>\n",
              "      <td>0.107760</td>\n",
              "      <td>0.107139</td>\n",
              "      <td>0.106537</td>\n",
              "      <td>0.105954</td>\n",
              "      <td>0.105389</td>\n",
              "      <td>0.104841</td>\n",
              "      <td>0.104310</td>\n",
              "      <td>...</td>\n",
              "      <td>0.322406</td>\n",
              "      <td>0.322391</td>\n",
              "      <td>0.322379</td>\n",
              "      <td>0.322372</td>\n",
              "      <td>0.322370</td>\n",
              "      <td>0.322373</td>\n",
              "      <td>0.322381</td>\n",
              "      <td>0.322396</td>\n",
              "      <td>0.322418</td>\n",
              "      <td>0.322450</td>\n",
              "    </tr>\n",
              "    <tr>\n",
              "      <th>3</th>\n",
              "      <td>22</td>\n",
              "      <td>0.115123</td>\n",
              "      <td>0.114382</td>\n",
              "      <td>0.113665</td>\n",
              "      <td>0.112972</td>\n",
              "      <td>0.112302</td>\n",
              "      <td>0.111651</td>\n",
              "      <td>0.111020</td>\n",
              "      <td>0.110406</td>\n",
              "      <td>0.109811</td>\n",
              "      <td>...</td>\n",
              "      <td>0.345761</td>\n",
              "      <td>0.345795</td>\n",
              "      <td>0.345833</td>\n",
              "      <td>0.345875</td>\n",
              "      <td>0.345922</td>\n",
              "      <td>0.345973</td>\n",
              "      <td>0.346030</td>\n",
              "      <td>0.346093</td>\n",
              "      <td>0.346165</td>\n",
              "      <td>0.346248</td>\n",
              "    </tr>\n",
              "    <tr>\n",
              "      <th>4</th>\n",
              "      <td>23</td>\n",
              "      <td>0.108210</td>\n",
              "      <td>0.107502</td>\n",
              "      <td>0.106820</td>\n",
              "      <td>0.106161</td>\n",
              "      <td>0.105525</td>\n",
              "      <td>0.104909</td>\n",
              "      <td>0.104313</td>\n",
              "      <td>0.103736</td>\n",
              "      <td>0.103177</td>\n",
              "      <td>...</td>\n",
              "      <td>0.318878</td>\n",
              "      <td>0.318912</td>\n",
              "      <td>0.318950</td>\n",
              "      <td>0.318994</td>\n",
              "      <td>0.319043</td>\n",
              "      <td>0.319099</td>\n",
              "      <td>0.319162</td>\n",
              "      <td>0.319232</td>\n",
              "      <td>0.319311</td>\n",
              "      <td>0.319402</td>\n",
              "    </tr>\n",
              "    <tr>\n",
              "      <th>5</th>\n",
              "      <td>23</td>\n",
              "      <td>0.110145</td>\n",
              "      <td>0.109484</td>\n",
              "      <td>0.108847</td>\n",
              "      <td>0.108232</td>\n",
              "      <td>0.107640</td>\n",
              "      <td>0.107067</td>\n",
              "      <td>0.106512</td>\n",
              "      <td>0.105975</td>\n",
              "      <td>0.105455</td>\n",
              "      <td>...</td>\n",
              "      <td>0.336139</td>\n",
              "      <td>0.336181</td>\n",
              "      <td>0.336226</td>\n",
              "      <td>0.336277</td>\n",
              "      <td>0.336334</td>\n",
              "      <td>0.336396</td>\n",
              "      <td>0.336463</td>\n",
              "      <td>0.336536</td>\n",
              "      <td>0.336615</td>\n",
              "      <td>0.336704</td>\n",
              "    </tr>\n",
              "    <tr>\n",
              "      <th>6</th>\n",
              "      <td>27</td>\n",
              "      <td>0.116913</td>\n",
              "      <td>0.116137</td>\n",
              "      <td>0.115386</td>\n",
              "      <td>0.114659</td>\n",
              "      <td>0.113953</td>\n",
              "      <td>0.113268</td>\n",
              "      <td>0.112602</td>\n",
              "      <td>0.111954</td>\n",
              "      <td>0.111325</td>\n",
              "      <td>...</td>\n",
              "      <td>0.311583</td>\n",
              "      <td>0.311649</td>\n",
              "      <td>0.311720</td>\n",
              "      <td>0.311795</td>\n",
              "      <td>0.311877</td>\n",
              "      <td>0.311965</td>\n",
              "      <td>0.312060</td>\n",
              "      <td>0.312162</td>\n",
              "      <td>0.312271</td>\n",
              "      <td>0.312392</td>\n",
              "    </tr>\n",
              "    <tr>\n",
              "      <th>7</th>\n",
              "      <td>29</td>\n",
              "      <td>0.115383</td>\n",
              "      <td>0.114556</td>\n",
              "      <td>0.113759</td>\n",
              "      <td>0.112989</td>\n",
              "      <td>0.112244</td>\n",
              "      <td>0.111523</td>\n",
              "      <td>0.110824</td>\n",
              "      <td>0.110147</td>\n",
              "      <td>0.109491</td>\n",
              "      <td>...</td>\n",
              "      <td>0.345287</td>\n",
              "      <td>0.345351</td>\n",
              "      <td>0.345421</td>\n",
              "      <td>0.345496</td>\n",
              "      <td>0.345577</td>\n",
              "      <td>0.345665</td>\n",
              "      <td>0.345759</td>\n",
              "      <td>0.345861</td>\n",
              "      <td>0.345971</td>\n",
              "      <td>0.346092</td>\n",
              "    </tr>\n",
              "    <tr>\n",
              "      <th>8</th>\n",
              "      <td>30</td>\n",
              "      <td>0.116996</td>\n",
              "      <td>0.116160</td>\n",
              "      <td>0.115352</td>\n",
              "      <td>0.114571</td>\n",
              "      <td>0.113816</td>\n",
              "      <td>0.113086</td>\n",
              "      <td>0.112379</td>\n",
              "      <td>0.111695</td>\n",
              "      <td>0.111034</td>\n",
              "      <td>...</td>\n",
              "      <td>0.334935</td>\n",
              "      <td>0.334991</td>\n",
              "      <td>0.335053</td>\n",
              "      <td>0.335121</td>\n",
              "      <td>0.335196</td>\n",
              "      <td>0.335277</td>\n",
              "      <td>0.335365</td>\n",
              "      <td>0.335461</td>\n",
              "      <td>0.335566</td>\n",
              "      <td>0.335683</td>\n",
              "    </tr>\n",
              "    <tr>\n",
              "      <th>9</th>\n",
              "      <td>31</td>\n",
              "      <td>0.117903</td>\n",
              "      <td>0.117134</td>\n",
              "      <td>0.116392</td>\n",
              "      <td>0.115676</td>\n",
              "      <td>0.114985</td>\n",
              "      <td>0.114318</td>\n",
              "      <td>0.113673</td>\n",
              "      <td>0.113048</td>\n",
              "      <td>0.112446</td>\n",
              "      <td>...</td>\n",
              "      <td>0.333258</td>\n",
              "      <td>0.333291</td>\n",
              "      <td>0.333329</td>\n",
              "      <td>0.333372</td>\n",
              "      <td>0.333420</td>\n",
              "      <td>0.333475</td>\n",
              "      <td>0.333537</td>\n",
              "      <td>0.333607</td>\n",
              "      <td>0.333686</td>\n",
              "      <td>0.333777</td>\n",
              "    </tr>\n",
              "    <tr>\n",
              "      <th>10</th>\n",
              "      <td>29</td>\n",
              "      <td>0.115312</td>\n",
              "      <td>0.114534</td>\n",
              "      <td>0.113784</td>\n",
              "      <td>0.113061</td>\n",
              "      <td>0.112362</td>\n",
              "      <td>0.111687</td>\n",
              "      <td>0.111033</td>\n",
              "      <td>0.110399</td>\n",
              "      <td>0.109786</td>\n",
              "      <td>...</td>\n",
              "      <td>0.335617</td>\n",
              "      <td>0.335650</td>\n",
              "      <td>0.335689</td>\n",
              "      <td>0.335732</td>\n",
              "      <td>0.335782</td>\n",
              "      <td>0.335838</td>\n",
              "      <td>0.335901</td>\n",
              "      <td>0.335971</td>\n",
              "      <td>0.336049</td>\n",
              "      <td>0.336140</td>\n",
              "    </tr>\n",
              "    <tr>\n",
              "      <th>11</th>\n",
              "      <td>30</td>\n",
              "      <td>0.118457</td>\n",
              "      <td>0.117669</td>\n",
              "      <td>0.116910</td>\n",
              "      <td>0.116180</td>\n",
              "      <td>0.115474</td>\n",
              "      <td>0.114792</td>\n",
              "      <td>0.114132</td>\n",
              "      <td>0.113493</td>\n",
              "      <td>0.112875</td>\n",
              "      <td>...</td>\n",
              "      <td>0.357113</td>\n",
              "      <td>0.357146</td>\n",
              "      <td>0.357185</td>\n",
              "      <td>0.357229</td>\n",
              "      <td>0.357281</td>\n",
              "      <td>0.357339</td>\n",
              "      <td>0.357404</td>\n",
              "      <td>0.357477</td>\n",
              "      <td>0.357558</td>\n",
              "      <td>0.357652</td>\n",
              "    </tr>\n",
              "    <tr>\n",
              "      <th>12</th>\n",
              "      <td>39</td>\n",
              "      <td>0.127076</td>\n",
              "      <td>0.126311</td>\n",
              "      <td>0.125574</td>\n",
              "      <td>0.124863</td>\n",
              "      <td>0.124178</td>\n",
              "      <td>0.123516</td>\n",
              "      <td>0.122876</td>\n",
              "      <td>0.122258</td>\n",
              "      <td>0.121661</td>\n",
              "      <td>...</td>\n",
              "      <td>0.361618</td>\n",
              "      <td>0.361685</td>\n",
              "      <td>0.361757</td>\n",
              "      <td>0.361835</td>\n",
              "      <td>0.361919</td>\n",
              "      <td>0.362010</td>\n",
              "      <td>0.362107</td>\n",
              "      <td>0.362211</td>\n",
              "      <td>0.362323</td>\n",
              "      <td>0.362446</td>\n",
              "    </tr>\n",
              "    <tr>\n",
              "      <th>13</th>\n",
              "      <td>35</td>\n",
              "      <td>0.114814</td>\n",
              "      <td>0.114023</td>\n",
              "      <td>0.113260</td>\n",
              "      <td>0.112525</td>\n",
              "      <td>0.111814</td>\n",
              "      <td>0.111128</td>\n",
              "      <td>0.110465</td>\n",
              "      <td>0.109823</td>\n",
              "      <td>0.109204</td>\n",
              "      <td>...</td>\n",
              "      <td>0.334396</td>\n",
              "      <td>0.334443</td>\n",
              "      <td>0.334496</td>\n",
              "      <td>0.334555</td>\n",
              "      <td>0.334621</td>\n",
              "      <td>0.334694</td>\n",
              "      <td>0.334774</td>\n",
              "      <td>0.334863</td>\n",
              "      <td>0.334961</td>\n",
              "      <td>0.335071</td>\n",
              "    </tr>\n",
              "    <tr>\n",
              "      <th>14</th>\n",
              "      <td>35</td>\n",
              "      <td>0.118864</td>\n",
              "      <td>0.118050</td>\n",
              "      <td>0.117267</td>\n",
              "      <td>0.116514</td>\n",
              "      <td>0.115789</td>\n",
              "      <td>0.115090</td>\n",
              "      <td>0.114414</td>\n",
              "      <td>0.113762</td>\n",
              "      <td>0.113132</td>\n",
              "      <td>...</td>\n",
              "      <td>0.349530</td>\n",
              "      <td>0.349565</td>\n",
              "      <td>0.349606</td>\n",
              "      <td>0.349654</td>\n",
              "      <td>0.349709</td>\n",
              "      <td>0.349771</td>\n",
              "      <td>0.349841</td>\n",
              "      <td>0.349919</td>\n",
              "      <td>0.350006</td>\n",
              "      <td>0.350106</td>\n",
              "    </tr>\n",
              "    <tr>\n",
              "      <th>15</th>\n",
              "      <td>33</td>\n",
              "      <td>0.127350</td>\n",
              "      <td>0.126562</td>\n",
              "      <td>0.125802</td>\n",
              "      <td>0.125069</td>\n",
              "      <td>0.124362</td>\n",
              "      <td>0.123678</td>\n",
              "      <td>0.123017</td>\n",
              "      <td>0.122377</td>\n",
              "      <td>0.121759</td>\n",
              "      <td>...</td>\n",
              "      <td>0.344028</td>\n",
              "      <td>0.344086</td>\n",
              "      <td>0.344152</td>\n",
              "      <td>0.344226</td>\n",
              "      <td>0.344307</td>\n",
              "      <td>0.344396</td>\n",
              "      <td>0.344493</td>\n",
              "      <td>0.344599</td>\n",
              "      <td>0.344711</td>\n",
              "      <td>0.344836</td>\n",
              "    </tr>\n",
              "    <tr>\n",
              "      <th>16</th>\n",
              "      <td>35</td>\n",
              "      <td>0.122193</td>\n",
              "      <td>0.121389</td>\n",
              "      <td>0.120615</td>\n",
              "      <td>0.119868</td>\n",
              "      <td>0.119146</td>\n",
              "      <td>0.118450</td>\n",
              "      <td>0.117777</td>\n",
              "      <td>0.117126</td>\n",
              "      <td>0.116499</td>\n",
              "      <td>...</td>\n",
              "      <td>0.362813</td>\n",
              "      <td>0.362864</td>\n",
              "      <td>0.362920</td>\n",
              "      <td>0.362983</td>\n",
              "      <td>0.363053</td>\n",
              "      <td>0.363130</td>\n",
              "      <td>0.363215</td>\n",
              "      <td>0.363308</td>\n",
              "      <td>0.363409</td>\n",
              "      <td>0.363523</td>\n",
              "    </tr>\n",
              "    <tr>\n",
              "      <th>17</th>\n",
              "      <td>33</td>\n",
              "      <td>0.113872</td>\n",
              "      <td>0.113057</td>\n",
              "      <td>0.112270</td>\n",
              "      <td>0.111510</td>\n",
              "      <td>0.110776</td>\n",
              "      <td>0.110065</td>\n",
              "      <td>0.109377</td>\n",
              "      <td>0.108711</td>\n",
              "      <td>0.108067</td>\n",
              "      <td>...</td>\n",
              "      <td>0.352807</td>\n",
              "      <td>0.352845</td>\n",
              "      <td>0.352889</td>\n",
              "      <td>0.352940</td>\n",
              "      <td>0.352999</td>\n",
              "      <td>0.353064</td>\n",
              "      <td>0.353138</td>\n",
              "      <td>0.353220</td>\n",
              "      <td>0.353311</td>\n",
              "      <td>0.353414</td>\n",
              "    </tr>\n",
              "    <tr>\n",
              "      <th>18</th>\n",
              "      <td>32</td>\n",
              "      <td>0.124934</td>\n",
              "      <td>0.124050</td>\n",
              "      <td>0.123198</td>\n",
              "      <td>0.122376</td>\n",
              "      <td>0.121583</td>\n",
              "      <td>0.120815</td>\n",
              "      <td>0.120072</td>\n",
              "      <td>0.119352</td>\n",
              "      <td>0.118655</td>\n",
              "      <td>...</td>\n",
              "      <td>0.376867</td>\n",
              "      <td>0.376917</td>\n",
              "      <td>0.376973</td>\n",
              "      <td>0.377036</td>\n",
              "      <td>0.377106</td>\n",
              "      <td>0.377182</td>\n",
              "      <td>0.377265</td>\n",
              "      <td>0.377356</td>\n",
              "      <td>0.377454</td>\n",
              "      <td>0.377564</td>\n",
              "    </tr>\n",
              "    <tr>\n",
              "      <th>19</th>\n",
              "      <td>32</td>\n",
              "      <td>0.124913</td>\n",
              "      <td>0.124070</td>\n",
              "      <td>0.123255</td>\n",
              "      <td>0.122468</td>\n",
              "      <td>0.121707</td>\n",
              "      <td>0.120970</td>\n",
              "      <td>0.120256</td>\n",
              "      <td>0.119563</td>\n",
              "      <td>0.118892</td>\n",
              "      <td>...</td>\n",
              "      <td>0.363776</td>\n",
              "      <td>0.363842</td>\n",
              "      <td>0.363913</td>\n",
              "      <td>0.363991</td>\n",
              "      <td>0.364074</td>\n",
              "      <td>0.364164</td>\n",
              "      <td>0.364262</td>\n",
              "      <td>0.364367</td>\n",
              "      <td>0.364480</td>\n",
              "      <td>0.364606</td>\n",
              "    </tr>\n",
              "    <tr>\n",
              "      <th>20</th>\n",
              "      <td>35</td>\n",
              "      <td>0.123907</td>\n",
              "      <td>0.123107</td>\n",
              "      <td>0.122335</td>\n",
              "      <td>0.121591</td>\n",
              "      <td>0.120873</td>\n",
              "      <td>0.120180</td>\n",
              "      <td>0.119510</td>\n",
              "      <td>0.118861</td>\n",
              "      <td>0.118234</td>\n",
              "      <td>...</td>\n",
              "      <td>0.360328</td>\n",
              "      <td>0.360372</td>\n",
              "      <td>0.360422</td>\n",
              "      <td>0.360479</td>\n",
              "      <td>0.360542</td>\n",
              "      <td>0.360612</td>\n",
              "      <td>0.360690</td>\n",
              "      <td>0.360776</td>\n",
              "      <td>0.360871</td>\n",
              "      <td>0.360979</td>\n",
              "    </tr>\n",
              "    <tr>\n",
              "      <th>21</th>\n",
              "      <td>35</td>\n",
              "      <td>0.125039</td>\n",
              "      <td>0.124276</td>\n",
              "      <td>0.123538</td>\n",
              "      <td>0.122825</td>\n",
              "      <td>0.122134</td>\n",
              "      <td>0.121463</td>\n",
              "      <td>0.120810</td>\n",
              "      <td>0.120175</td>\n",
              "      <td>0.119557</td>\n",
              "      <td>...</td>\n",
              "      <td>0.333666</td>\n",
              "      <td>0.333673</td>\n",
              "      <td>0.333685</td>\n",
              "      <td>0.333703</td>\n",
              "      <td>0.333728</td>\n",
              "      <td>0.333760</td>\n",
              "      <td>0.333801</td>\n",
              "      <td>0.333850</td>\n",
              "      <td>0.333908</td>\n",
              "      <td>0.333980</td>\n",
              "    </tr>\n",
              "    <tr>\n",
              "      <th>22</th>\n",
              "      <td>33</td>\n",
              "      <td>0.122859</td>\n",
              "      <td>0.122049</td>\n",
              "      <td>0.121266</td>\n",
              "      <td>0.120510</td>\n",
              "      <td>0.119778</td>\n",
              "      <td>0.119069</td>\n",
              "      <td>0.118382</td>\n",
              "      <td>0.117716</td>\n",
              "      <td>0.117072</td>\n",
              "      <td>...</td>\n",
              "      <td>0.360561</td>\n",
              "      <td>0.360576</td>\n",
              "      <td>0.360595</td>\n",
              "      <td>0.360621</td>\n",
              "      <td>0.360654</td>\n",
              "      <td>0.360692</td>\n",
              "      <td>0.360738</td>\n",
              "      <td>0.360792</td>\n",
              "      <td>0.360854</td>\n",
              "      <td>0.360929</td>\n",
              "    </tr>\n",
              "    <tr>\n",
              "      <th>23</th>\n",
              "      <td>33</td>\n",
              "      <td>0.123770</td>\n",
              "      <td>0.122989</td>\n",
              "      <td>0.122236</td>\n",
              "      <td>0.121509</td>\n",
              "      <td>0.120806</td>\n",
              "      <td>0.120124</td>\n",
              "      <td>0.119462</td>\n",
              "      <td>0.118819</td>\n",
              "      <td>0.118194</td>\n",
              "      <td>...</td>\n",
              "      <td>0.365700</td>\n",
              "      <td>0.365706</td>\n",
              "      <td>0.365716</td>\n",
              "      <td>0.365732</td>\n",
              "      <td>0.365754</td>\n",
              "      <td>0.365783</td>\n",
              "      <td>0.365818</td>\n",
              "      <td>0.365861</td>\n",
              "      <td>0.365912</td>\n",
              "      <td>0.365977</td>\n",
              "    </tr>\n",
              "    <tr>\n",
              "      <th>24</th>\n",
              "      <td>40</td>\n",
              "      <td>0.127481</td>\n",
              "      <td>0.126632</td>\n",
              "      <td>0.125813</td>\n",
              "      <td>0.125024</td>\n",
              "      <td>0.124262</td>\n",
              "      <td>0.123525</td>\n",
              "      <td>0.122812</td>\n",
              "      <td>0.122122</td>\n",
              "      <td>0.121455</td>\n",
              "      <td>...</td>\n",
              "      <td>0.334771</td>\n",
              "      <td>0.334835</td>\n",
              "      <td>0.334906</td>\n",
              "      <td>0.334984</td>\n",
              "      <td>0.335069</td>\n",
              "      <td>0.335162</td>\n",
              "      <td>0.335261</td>\n",
              "      <td>0.335369</td>\n",
              "      <td>0.335485</td>\n",
              "      <td>0.335613</td>\n",
              "    </tr>\n",
              "    <tr>\n",
              "      <th>25</th>\n",
              "      <td>37</td>\n",
              "      <td>0.126210</td>\n",
              "      <td>0.125313</td>\n",
              "      <td>0.124450</td>\n",
              "      <td>0.123618</td>\n",
              "      <td>0.122816</td>\n",
              "      <td>0.122041</td>\n",
              "      <td>0.121292</td>\n",
              "      <td>0.120566</td>\n",
              "      <td>0.119864</td>\n",
              "      <td>...</td>\n",
              "      <td>0.369565</td>\n",
              "      <td>0.369601</td>\n",
              "      <td>0.369644</td>\n",
              "      <td>0.369694</td>\n",
              "      <td>0.369753</td>\n",
              "      <td>0.369820</td>\n",
              "      <td>0.369896</td>\n",
              "      <td>0.369982</td>\n",
              "      <td>0.370078</td>\n",
              "      <td>0.370188</td>\n",
              "    </tr>\n",
              "    <tr>\n",
              "      <th>26</th>\n",
              "      <td>37</td>\n",
              "      <td>0.122166</td>\n",
              "      <td>0.121303</td>\n",
              "      <td>0.120470</td>\n",
              "      <td>0.119667</td>\n",
              "      <td>0.118891</td>\n",
              "      <td>0.118140</td>\n",
              "      <td>0.117413</td>\n",
              "      <td>0.116709</td>\n",
              "      <td>0.116028</td>\n",
              "      <td>...</td>\n",
              "      <td>0.348966</td>\n",
              "      <td>0.348992</td>\n",
              "      <td>0.349025</td>\n",
              "      <td>0.349066</td>\n",
              "      <td>0.349116</td>\n",
              "      <td>0.349174</td>\n",
              "      <td>0.349241</td>\n",
              "      <td>0.349318</td>\n",
              "      <td>0.349405</td>\n",
              "      <td>0.349506</td>\n",
              "    </tr>\n",
              "    <tr>\n",
              "      <th>27</th>\n",
              "      <td>35</td>\n",
              "      <td>0.121548</td>\n",
              "      <td>0.120658</td>\n",
              "      <td>0.119799</td>\n",
              "      <td>0.118969</td>\n",
              "      <td>0.118168</td>\n",
              "      <td>0.117392</td>\n",
              "      <td>0.116641</td>\n",
              "      <td>0.115914</td>\n",
              "      <td>0.115211</td>\n",
              "      <td>...</td>\n",
              "      <td>0.367154</td>\n",
              "      <td>0.367174</td>\n",
              "      <td>0.367200</td>\n",
              "      <td>0.367234</td>\n",
              "      <td>0.367276</td>\n",
              "      <td>0.367324</td>\n",
              "      <td>0.367380</td>\n",
              "      <td>0.367445</td>\n",
              "      <td>0.367519</td>\n",
              "      <td>0.367605</td>\n",
              "    </tr>\n",
              "    <tr>\n",
              "      <th>28</th>\n",
              "      <td>35</td>\n",
              "      <td>0.121781</td>\n",
              "      <td>0.120937</td>\n",
              "      <td>0.120121</td>\n",
              "      <td>0.119334</td>\n",
              "      <td>0.118573</td>\n",
              "      <td>0.117836</td>\n",
              "      <td>0.117122</td>\n",
              "      <td>0.116430</td>\n",
              "      <td>0.115760</td>\n",
              "      <td>...</td>\n",
              "      <td>0.342946</td>\n",
              "      <td>0.342978</td>\n",
              "      <td>0.343016</td>\n",
              "      <td>0.343060</td>\n",
              "      <td>0.343110</td>\n",
              "      <td>0.343169</td>\n",
              "      <td>0.343235</td>\n",
              "      <td>0.343311</td>\n",
              "      <td>0.343396</td>\n",
              "      <td>0.343496</td>\n",
              "    </tr>\n",
              "    <tr>\n",
              "      <th>29</th>\n",
              "      <td>44</td>\n",
              "      <td>0.120819</td>\n",
              "      <td>0.119984</td>\n",
              "      <td>0.119179</td>\n",
              "      <td>0.118401</td>\n",
              "      <td>0.117651</td>\n",
              "      <td>0.116926</td>\n",
              "      <td>0.116225</td>\n",
              "      <td>0.115547</td>\n",
              "      <td>0.114893</td>\n",
              "      <td>...</td>\n",
              "      <td>0.346265</td>\n",
              "      <td>0.346341</td>\n",
              "      <td>0.346424</td>\n",
              "      <td>0.346513</td>\n",
              "      <td>0.346610</td>\n",
              "      <td>0.346715</td>\n",
              "      <td>0.346826</td>\n",
              "      <td>0.346947</td>\n",
              "      <td>0.347075</td>\n",
              "      <td>0.347217</td>\n",
              "    </tr>\n",
              "    <tr>\n",
              "      <th>30</th>\n",
              "      <td>40</td>\n",
              "      <td>0.116817</td>\n",
              "      <td>0.115990</td>\n",
              "      <td>0.115191</td>\n",
              "      <td>0.114419</td>\n",
              "      <td>0.113673</td>\n",
              "      <td>0.112951</td>\n",
              "      <td>0.112253</td>\n",
              "      <td>0.111577</td>\n",
              "      <td>0.110923</td>\n",
              "      <td>...</td>\n",
              "      <td>0.340572</td>\n",
              "      <td>0.340655</td>\n",
              "      <td>0.340745</td>\n",
              "      <td>0.340840</td>\n",
              "      <td>0.340941</td>\n",
              "      <td>0.341047</td>\n",
              "      <td>0.341159</td>\n",
              "      <td>0.341277</td>\n",
              "      <td>0.341401</td>\n",
              "      <td>0.341535</td>\n",
              "    </tr>\n",
              "    <tr>\n",
              "      <th>31</th>\n",
              "      <td>35</td>\n",
              "      <td>0.120230</td>\n",
              "      <td>0.119388</td>\n",
              "      <td>0.118576</td>\n",
              "      <td>0.117792</td>\n",
              "      <td>0.117036</td>\n",
              "      <td>0.116306</td>\n",
              "      <td>0.115600</td>\n",
              "      <td>0.114917</td>\n",
              "      <td>0.114258</td>\n",
              "      <td>...</td>\n",
              "      <td>0.348171</td>\n",
              "      <td>0.348233</td>\n",
              "      <td>0.348302</td>\n",
              "      <td>0.348378</td>\n",
              "      <td>0.348462</td>\n",
              "      <td>0.348553</td>\n",
              "      <td>0.348652</td>\n",
              "      <td>0.348760</td>\n",
              "      <td>0.348876</td>\n",
              "      <td>0.349004</td>\n",
              "    </tr>\n",
              "    <tr>\n",
              "      <th>32</th>\n",
              "      <td>42</td>\n",
              "      <td>0.103627</td>\n",
              "      <td>0.103004</td>\n",
              "      <td>0.102401</td>\n",
              "      <td>0.101820</td>\n",
              "      <td>0.101257</td>\n",
              "      <td>0.100714</td>\n",
              "      <td>0.100187</td>\n",
              "      <td>0.099676</td>\n",
              "      <td>0.099182</td>\n",
              "      <td>...</td>\n",
              "      <td>0.296478</td>\n",
              "      <td>0.296521</td>\n",
              "      <td>0.296569</td>\n",
              "      <td>0.296623</td>\n",
              "      <td>0.296682</td>\n",
              "      <td>0.296747</td>\n",
              "      <td>0.296819</td>\n",
              "      <td>0.296898</td>\n",
              "      <td>0.296985</td>\n",
              "      <td>0.297083</td>\n",
              "    </tr>\n",
              "    <tr>\n",
              "      <th>33</th>\n",
              "      <td>39</td>\n",
              "      <td>0.107658</td>\n",
              "      <td>0.106982</td>\n",
              "      <td>0.106329</td>\n",
              "      <td>0.105700</td>\n",
              "      <td>0.105091</td>\n",
              "      <td>0.104503</td>\n",
              "      <td>0.103935</td>\n",
              "      <td>0.103385</td>\n",
              "      <td>0.102853</td>\n",
              "      <td>...</td>\n",
              "      <td>0.323486</td>\n",
              "      <td>0.323538</td>\n",
              "      <td>0.323594</td>\n",
              "      <td>0.323656</td>\n",
              "      <td>0.323723</td>\n",
              "      <td>0.323795</td>\n",
              "      <td>0.323872</td>\n",
              "      <td>0.323957</td>\n",
              "      <td>0.324048</td>\n",
              "      <td>0.324150</td>\n",
              "    </tr>\n",
              "    <tr>\n",
              "      <th>34</th>\n",
              "      <td>38</td>\n",
              "      <td>0.101946</td>\n",
              "      <td>0.101201</td>\n",
              "      <td>0.100481</td>\n",
              "      <td>0.099786</td>\n",
              "      <td>0.099114</td>\n",
              "      <td>0.098464</td>\n",
              "      <td>0.097834</td>\n",
              "      <td>0.097224</td>\n",
              "      <td>0.096632</td>\n",
              "      <td>...</td>\n",
              "      <td>0.318504</td>\n",
              "      <td>0.318542</td>\n",
              "      <td>0.318587</td>\n",
              "      <td>0.318639</td>\n",
              "      <td>0.318700</td>\n",
              "      <td>0.318769</td>\n",
              "      <td>0.318846</td>\n",
              "      <td>0.318934</td>\n",
              "      <td>0.319031</td>\n",
              "      <td>0.319141</td>\n",
              "    </tr>\n",
              "    <tr>\n",
              "      <th>35</th>\n",
              "      <td>43</td>\n",
              "      <td>0.120367</td>\n",
              "      <td>0.119616</td>\n",
              "      <td>0.118889</td>\n",
              "      <td>0.118187</td>\n",
              "      <td>0.117508</td>\n",
              "      <td>0.116850</td>\n",
              "      <td>0.116212</td>\n",
              "      <td>0.115594</td>\n",
              "      <td>0.114995</td>\n",
              "      <td>...</td>\n",
              "      <td>0.313752</td>\n",
              "      <td>0.313767</td>\n",
              "      <td>0.313789</td>\n",
              "      <td>0.313819</td>\n",
              "      <td>0.313857</td>\n",
              "      <td>0.313903</td>\n",
              "      <td>0.313957</td>\n",
              "      <td>0.314019</td>\n",
              "      <td>0.314089</td>\n",
              "      <td>0.314173</td>\n",
              "    </tr>\n",
              "  </tbody>\n",
              "</table>\n",
              "<p>36 rows × 4201 columns</p>\n",
              "</div>\n",
              "      <button class=\"colab-df-convert\" onclick=\"convertToInteractive('df-41072520-0e1f-41a8-9b00-907b8843d022')\"\n",
              "              title=\"Convert this dataframe to an interactive table.\"\n",
              "              style=\"display:none;\">\n",
              "        \n",
              "  <svg xmlns=\"http://www.w3.org/2000/svg\" height=\"24px\"viewBox=\"0 0 24 24\"\n",
              "       width=\"24px\">\n",
              "    <path d=\"M0 0h24v24H0V0z\" fill=\"none\"/>\n",
              "    <path d=\"M18.56 5.44l.94 2.06.94-2.06 2.06-.94-2.06-.94-.94-2.06-.94 2.06-2.06.94zm-11 1L8.5 8.5l.94-2.06 2.06-.94-2.06-.94L8.5 2.5l-.94 2.06-2.06.94zm10 10l.94 2.06.94-2.06 2.06-.94-2.06-.94-.94-2.06-.94 2.06-2.06.94z\"/><path d=\"M17.41 7.96l-1.37-1.37c-.4-.4-.92-.59-1.43-.59-.52 0-1.04.2-1.43.59L10.3 9.45l-7.72 7.72c-.78.78-.78 2.05 0 2.83L4 21.41c.39.39.9.59 1.41.59.51 0 1.02-.2 1.41-.59l7.78-7.78 2.81-2.81c.8-.78.8-2.07 0-2.86zM5.41 20L4 18.59l7.72-7.72 1.47 1.35L5.41 20z\"/>\n",
              "  </svg>\n",
              "      </button>\n",
              "      \n",
              "  <style>\n",
              "    .colab-df-container {\n",
              "      display:flex;\n",
              "      flex-wrap:wrap;\n",
              "      gap: 12px;\n",
              "    }\n",
              "\n",
              "    .colab-df-convert {\n",
              "      background-color: #E8F0FE;\n",
              "      border: none;\n",
              "      border-radius: 50%;\n",
              "      cursor: pointer;\n",
              "      display: none;\n",
              "      fill: #1967D2;\n",
              "      height: 32px;\n",
              "      padding: 0 0 0 0;\n",
              "      width: 32px;\n",
              "    }\n",
              "\n",
              "    .colab-df-convert:hover {\n",
              "      background-color: #E2EBFA;\n",
              "      box-shadow: 0px 1px 2px rgba(60, 64, 67, 0.3), 0px 1px 3px 1px rgba(60, 64, 67, 0.15);\n",
              "      fill: #174EA6;\n",
              "    }\n",
              "\n",
              "    [theme=dark] .colab-df-convert {\n",
              "      background-color: #3B4455;\n",
              "      fill: #D2E3FC;\n",
              "    }\n",
              "\n",
              "    [theme=dark] .colab-df-convert:hover {\n",
              "      background-color: #434B5C;\n",
              "      box-shadow: 0px 1px 3px 1px rgba(0, 0, 0, 0.15);\n",
              "      filter: drop-shadow(0px 1px 2px rgba(0, 0, 0, 0.3));\n",
              "      fill: #FFFFFF;\n",
              "    }\n",
              "  </style>\n",
              "\n",
              "      <script>\n",
              "        const buttonEl =\n",
              "          document.querySelector('#df-41072520-0e1f-41a8-9b00-907b8843d022 button.colab-df-convert');\n",
              "        buttonEl.style.display =\n",
              "          google.colab.kernel.accessAllowed ? 'block' : 'none';\n",
              "\n",
              "        async function convertToInteractive(key) {\n",
              "          const element = document.querySelector('#df-41072520-0e1f-41a8-9b00-907b8843d022');\n",
              "          const dataTable =\n",
              "            await google.colab.kernel.invokeFunction('convertToInteractive',\n",
              "                                                     [key], {});\n",
              "          if (!dataTable) return;\n",
              "\n",
              "          const docLinkHtml = 'Like what you see? Visit the ' +\n",
              "            '<a target=\"_blank\" href=https://colab.research.google.com/notebooks/data_table.ipynb>data table notebook</a>'\n",
              "            + ' to learn more about interactive tables.';\n",
              "          element.innerHTML = '';\n",
              "          dataTable['output_type'] = 'display_data';\n",
              "          await google.colab.output.renderOutput(dataTable, element);\n",
              "          const docLink = document.createElement('div');\n",
              "          docLink.innerHTML = docLinkHtml;\n",
              "          element.appendChild(docLink);\n",
              "        }\n",
              "      </script>\n",
              "    </div>\n",
              "  </div>\n",
              "  "
            ]
          },
          "metadata": {},
          "execution_count": 83
        }
      ]
    },
    {
      "cell_type": "code",
      "source": [
        "from sklearn.model_selection import train_test_split"
      ],
      "metadata": {
        "id": "E6Z53TQGhzi-"
      },
      "execution_count": null,
      "outputs": []
    },
    {
      "cell_type": "code",
      "source": [
        "X = data_t.drop('B Conc. ppm', axis=1)\n",
        "y = data_t['B Conc. ppm']"
      ],
      "metadata": {
        "id": "RI6jqPUuhzlU"
      },
      "execution_count": null,
      "outputs": []
    },
    {
      "cell_type": "code",
      "source": [
        "X.columns"
      ],
      "metadata": {
        "id": "CbDzqYjQhznt",
        "colab": {
          "base_uri": "https://localhost:8080/"
        },
        "outputId": "4434bef3-7c2d-49cf-8193-a88915280253"
      },
      "execution_count": null,
      "outputs": [
        {
          "output_type": "execute_result",
          "data": {
            "text/plain": [
              "Index([   400,  400.5,    401,  401.5,    402,  402.5,    403,  403.5,    404,\n",
              "        404.5,\n",
              "       ...\n",
              "         2495, 2495.5,   2496, 2496.5,   2497, 2497.5,   2498, 2498.5,   2499,\n",
              "       2499.5],\n",
              "      dtype='object', length=4200)"
            ]
          },
          "metadata": {},
          "execution_count": 86
        }
      ]
    },
    {
      "cell_type": "code",
      "source": [],
      "metadata": {
        "id": "cPabtq1PHJBY"
      },
      "execution_count": null,
      "outputs": []
    },
    {
      "cell_type": "code",
      "source": [
        "#### PCA"
      ],
      "metadata": {
        "id": "zhxqZPXrNRHT"
      },
      "execution_count": null,
      "outputs": []
    },
    {
      "cell_type": "code",
      "source": [
        "from sklearn.decomposition import PCA"
      ],
      "metadata": {
        "id": "E4OiZdvLNqTk"
      },
      "execution_count": null,
      "outputs": []
    },
    {
      "cell_type": "code",
      "source": [
        "pca = PCA(n_components=5)"
      ],
      "metadata": {
        "id": "m1whXWDpNqcy"
      },
      "execution_count": null,
      "outputs": []
    },
    {
      "cell_type": "code",
      "source": [
        "x_transformed = pca.fit_transform(X, y=None)"
      ],
      "metadata": {
        "colab": {
          "base_uri": "https://localhost:8080/"
        },
        "id": "TswbRF9lNqfq",
        "outputId": "fa289997-c624-4fdc-d3b9-8f7d6307a1ed"
      },
      "execution_count": null,
      "outputs": [
        {
          "output_type": "stream",
          "name": "stderr",
          "text": [
            "/usr/local/lib/python3.7/dist-packages/sklearn/utils/validation.py:1692: FutureWarning: Feature names only support names that are all strings. Got feature names with dtypes: ['float', 'int']. An error will be raised in 1.2.\n",
            "  FutureWarning,\n"
          ]
        }
      ]
    },
    {
      "cell_type": "code",
      "source": [
        "print(pca.explained_variance_ratio_)"
      ],
      "metadata": {
        "colab": {
          "base_uri": "https://localhost:8080/"
        },
        "id": "BT2ZGF5XNqkf",
        "outputId": "3bd43b84-8f06-4298-b195-2fd25a934b54"
      },
      "execution_count": null,
      "outputs": [
        {
          "output_type": "stream",
          "name": "stdout",
          "text": [
            "[0.92217052 0.04278803 0.01689382 0.00767084 0.00606125]\n"
          ]
        }
      ]
    },
    {
      "cell_type": "code",
      "source": [
        "X_transformed = pd.DataFrame(x_transformed, columns = [\"PC_1\", \"PC_2\", \"PC_3\", \"PC_4\", \"PC_5\"])\n"
      ],
      "metadata": {
        "id": "In-k9nbnNqns"
      },
      "execution_count": null,
      "outputs": []
    },
    {
      "cell_type": "code",
      "source": [
        "print(pca.explained_variance_ratio_)\n"
      ],
      "metadata": {
        "colab": {
          "base_uri": "https://localhost:8080/"
        },
        "id": "08DDW4VpNqq0",
        "outputId": "1ddfcaf6-6b76-47ff-c118-d3addafee3b8"
      },
      "execution_count": null,
      "outputs": [
        {
          "output_type": "stream",
          "name": "stdout",
          "text": [
            "[0.92217052 0.04278803 0.01689382 0.00767084 0.00606125]\n"
          ]
        }
      ]
    },
    {
      "cell_type": "code",
      "source": [
        "pca.components_"
      ],
      "metadata": {
        "colab": {
          "base_uri": "https://localhost:8080/"
        },
        "id": "oH1srHdtNqs4",
        "outputId": "5002728c-6117-4443-e972-39ff47f51521"
      },
      "execution_count": null,
      "outputs": [
        {
          "output_type": "execute_result",
          "data": {
            "text/plain": [
              "array([[-0.00193633, -0.00191221, -0.00188906, ..., -0.00549004,\n",
              "        -0.00549392, -0.00549802],\n",
              "       [-0.00396497, -0.00395277, -0.00394156, ..., -0.01886634,\n",
              "        -0.01885708, -0.01884802],\n",
              "       [ 0.00317806,  0.00315584,  0.00313433, ..., -0.0071888 ,\n",
              "        -0.00718482, -0.00718108],\n",
              "       [ 0.00978568,  0.0097584 ,  0.00973187, ..., -0.01704585,\n",
              "        -0.01703778, -0.01702893],\n",
              "       [-0.00143997, -0.00136504, -0.0012935 , ..., -0.00467206,\n",
              "        -0.00474549, -0.00481968]])"
            ]
          },
          "metadata": {},
          "execution_count": 94
        }
      ]
    },
    {
      "cell_type": "code",
      "source": [],
      "metadata": {
        "id": "OBs-AC9f8WeK"
      },
      "execution_count": null,
      "outputs": []
    },
    {
      "cell_type": "code",
      "source": [
        "\n",
        "X_train, X_test, y_train, y_test = train_test_split(X_transformed, y, test_size = 0.20)\n",
        "\n",
        "\n",
        "# In[363]:\n",
        "\n",
        "\n",
        "from sklearn import linear_model\n",
        "\n",
        "\n",
        "# In[364]:\n",
        "\n",
        "\n",
        "reg = linear_model.LinearRegression()\n",
        "\n",
        "\n",
        "# In[365]:\n",
        "\n",
        "\n",
        "reg.fit(X_train, y_train)\n",
        "\n",
        "\n",
        "# In[366]:\n",
        "\n",
        "\n",
        "reg.coef_"
      ],
      "metadata": {
        "id": "q4J7c1r5hzp8",
        "colab": {
          "base_uri": "https://localhost:8080/"
        },
        "outputId": "35dfd946-b8b4-4a6b-d3c3-f19013d65180"
      },
      "execution_count": null,
      "outputs": [
        {
          "output_type": "execute_result",
          "data": {
            "text/plain": [
              "array([ 0.61214527, -4.92152089,  3.05487055, 14.56871312,  0.68754511])"
            ]
          },
          "metadata": {},
          "execution_count": 96
        }
      ]
    },
    {
      "cell_type": "code",
      "source": [
        "#####Random Forest"
      ],
      "metadata": {
        "id": "5mUt942En0Y3"
      },
      "execution_count": null,
      "outputs": []
    },
    {
      "cell_type": "code",
      "source": [
        "from sklearn.metrics import r2_score"
      ],
      "metadata": {
        "id": "_cCZU2mRnM-W"
      },
      "execution_count": null,
      "outputs": []
    },
    {
      "cell_type": "code",
      "source": [
        "from sklearn.ensemble import RandomForestRegressor, GradientBoostingRegressor\n",
        "\n",
        "regr = RandomForestRegressor(n_estimators = 100, max_depth=1)\n",
        "regr.fit(X_train, y_train)\n",
        "\n",
        "y_pred = regr.predict(X_test)\n",
        "\n",
        "r2_score(y_test, y_pred)"
      ],
      "metadata": {
        "id": "qypmXE9AhzsS",
        "colab": {
          "base_uri": "https://localhost:8080/"
        },
        "outputId": "019b0f66-ae4c-48c9-ecb1-4fce307b8da0"
      },
      "execution_count": null,
      "outputs": [
        {
          "output_type": "execute_result",
          "data": {
            "text/plain": [
              "0.6324795564480985"
            ]
          },
          "metadata": {},
          "execution_count": 99
        }
      ]
    },
    {
      "cell_type": "code",
      "source": [
        "plt.figure(figsize=(15,15))\n",
        "\n",
        "plt.scatter(y_pred, y_test, c='crimson')\n",
        "\n",
        "p1 = max(max(y_pred), max(y_test))\n",
        "p2 = min(min(y_pred), min(y_test))\n",
        "plt.plot([p1, p2], [p1, p2], 'b-')\n",
        "plt.xlabel('True Values', fontsize=15)\n",
        "plt.ylabel('Predictions', fontsize=15)\n",
        "plt.axis('equal')\n",
        "plt.show()"
      ],
      "metadata": {
        "id": "TEpwVHfJhzuU",
        "colab": {
          "base_uri": "https://localhost:8080/",
          "height": 882
        },
        "outputId": "d39a7c8c-720c-403e-a9ca-43685956e543"
      },
      "execution_count": null,
      "outputs": [
        {
          "output_type": "display_data",
          "data": {
            "text/plain": [
              "<Figure size 1080x1080 with 1 Axes>"
            ],
            "image/png": "[encoded data removed]"
          },
          "metadata": {
            "needs_background": "light"
          }
        }
      ]
    },
    {
      "cell_type": "code",
      "source": [],
      "metadata": {
        "id": "7Ih4LmIDhzwN"
      },
      "execution_count": null,
      "outputs": []
    },
    {
      "cell_type": "code",
      "source": [],
      "metadata": {
        "id": "a99dUfQVhzyF"
      },
      "execution_count": null,
      "outputs": []
    },
    {
      "cell_type": "code",
      "source": [
        "###Exponential Regression "
      ],
      "metadata": {
        "id": "b1NKrWrihz3O"
      },
      "execution_count": null,
      "outputs": []
    },
    {
      "cell_type": "code",
      "source": [
        "y_exp2 = np.exp(y)"
      ],
      "metadata": {
        "id": "HYbj29knhz5D"
      },
      "execution_count": null,
      "outputs": []
    },
    {
      "cell_type": "code",
      "source": [
        "y_exp2"
      ],
      "metadata": {
        "id": "ZfT0vItPhz8Q"
      },
      "execution_count": null,
      "outputs": []
    },
    {
      "cell_type": "code",
      "source": [
        "exp_reg_weighted = linear_model.LinearRegression()\n",
        "\n",
        "y_log2 = np.log(y)\n",
        "x_exp2 = np.exp(X)\n",
        "X_train, X_test, y_train, y_test = train_test_split(x_exp2, y_log2, test_size = 0.2)\n",
        "\n",
        "exp_reg_weighted.fit(X_train, y_train)\n"
      ],
      "metadata": {
        "id": "0KtnamzAoEyw",
        "colab": {
          "base_uri": "https://localhost:8080/"
        },
        "outputId": "c01b3524-2e16-48fc-ef86-5a2336505593"
      },
      "execution_count": null,
      "outputs": [
        {
          "output_type": "stream",
          "name": "stderr",
          "text": [
            "/usr/local/lib/python3.7/dist-packages/sklearn/utils/validation.py:1692: FutureWarning: Feature names only support names that are all strings. Got feature names with dtypes: ['float', 'int']. An error will be raised in 1.2.\n",
            "  FutureWarning,\n"
          ]
        },
        {
          "output_type": "execute_result",
          "data": {
            "text/plain": [
              "LinearRegression()"
            ]
          },
          "metadata": {},
          "execution_count": 112
        }
      ]
    },
    {
      "cell_type": "code",
      "source": [
        "y_pred2 = exp_reg_weighted.predict(X_test)\n",
        "y_pred2\n"
      ],
      "metadata": {
        "id": "wuhlHm2qoE1r",
        "colab": {
          "base_uri": "https://localhost:8080/"
        },
        "outputId": "51ab21cd-da06-480a-fd1a-7bd4ba6c4cce"
      },
      "execution_count": null,
      "outputs": [
        {
          "output_type": "stream",
          "name": "stderr",
          "text": [
            "/usr/local/lib/python3.7/dist-packages/sklearn/utils/validation.py:1692: FutureWarning: Feature names only support names that are all strings. Got feature names with dtypes: ['float', 'int']. An error will be raised in 1.2.\n",
            "  FutureWarning,\n"
          ]
        },
        {
          "output_type": "execute_result",
          "data": {
            "text/plain": [
              "array([3.80658437, 3.43630223, 3.2597434 , 3.383443  , 3.41766393,\n",
              "       3.85010235, 3.40685211, 3.59994243])"
            ]
          },
          "metadata": {},
          "execution_count": 113
        }
      ]
    },
    {
      "cell_type": "code",
      "source": [
        "r2_score(y_test, y_pred2)"
      ],
      "metadata": {
        "id": "s8DfX4L_oE4P",
        "colab": {
          "base_uri": "https://localhost:8080/"
        },
        "outputId": "8c3bfd27-6258-4556-bf0e-7fa9816e4f10"
      },
      "execution_count": null,
      "outputs": [
        {
          "output_type": "execute_result",
          "data": {
            "text/plain": [
              "0.38035466412582597"
            ]
          },
          "metadata": {},
          "execution_count": 114
        }
      ]
    },
    {
      "cell_type": "code",
      "source": [
        "y_pred3= np.exp(y_pred2)\n",
        "\n",
        "y_pred2"
      ],
      "metadata": {
        "id": "GWoYkUAXoE8_",
        "colab": {
          "base_uri": "https://localhost:8080/"
        },
        "outputId": "39e8bdd8-d851-43e8-9121-cc169124aba2"
      },
      "execution_count": null,
      "outputs": [
        {
          "output_type": "execute_result",
          "data": {
            "text/plain": [
              "array([3.80658437, 3.43630223, 3.2597434 , 3.383443  , 3.41766393,\n",
              "       3.85010235, 3.40685211, 3.59994243])"
            ]
          },
          "metadata": {},
          "execution_count": 115
        }
      ]
    },
    {
      "cell_type": "code",
      "source": [
        "plt.figure(figsize=(10,10))\n",
        "y_pred3= np.exp(y_pred2)\n",
        "y_test3= np.exp(y_test)\n",
        "\n",
        "plt.scatter(y_pred3, y_test3, c='crimson')\n",
        "\n",
        "p1 = max(max(y_pred3), max(y_test3))\n",
        "p2 = min(min(y_pred3), min(y_test3))\n",
        "plt.plot([p1, p2], [p1, p2], 'b-')\n",
        "plt.xlabel('True Values', fontsize=15)\n",
        "plt.ylabel('Predictions', fontsize=15)\n",
        "plt.axis('equal')\n",
        "plt.show()"
      ],
      "metadata": {
        "id": "wXfz_IFyoE_m",
        "colab": {
          "base_uri": "https://localhost:8080/",
          "height": 611
        },
        "outputId": "60676d2c-1d4b-48a9-a4c0-d54c07878f46"
      },
      "execution_count": null,
      "outputs": [
        {
          "output_type": "display_data",
          "data": {
            "text/plain": [
              "<Figure size 720x720 with 1 Axes>"
            ],
            "image/png": "[encoded data removed]"
          },
          "metadata": {
            "needs_background": "light"
          }
        }
      ]
    },
    {
      "cell_type": "code",
      "source": [],
      "metadata": {
        "id": "oOSM6-G6oFCC"
      },
      "execution_count": null,
      "outputs": []
    },
    {
      "cell_type": "code",
      "source": [],
      "metadata": {
        "id": "f8rRItlJoFEV"
      },
      "execution_count": null,
      "outputs": []
    },
    {
      "cell_type": "code",
      "source": [],
      "metadata": {
        "id": "fqNp68SYoFGp"
      },
      "execution_count": null,
      "outputs": []
    },
    {
      "cell_type": "code",
      "source": [],
      "metadata": {
        "id": "XymR56yioFJN"
      },
      "execution_count": null,
      "outputs": []
    }
  ]
}